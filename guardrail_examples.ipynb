{
 "cells": [
  {
   "cell_type": "markdown",
   "metadata": {},
   "source": [
    "# Example usage of `guardrails.py`"
   ]
  },
  {
   "cell_type": "markdown",
   "metadata": {},
   "source": [
    "## OpenAI Moderation"
   ]
  },
  {
   "cell_type": "code",
   "execution_count": 1,
   "metadata": {},
   "outputs": [],
   "source": [
    "from guardrails import (\n",
    "    openai_moderation,\n",
    "    sentinel,\n",
    ")"
   ]
  },
  {
   "cell_type": "code",
   "execution_count": 2,
   "metadata": {},
   "outputs": [],
   "source": [
    "sample_text = \"\"\"\n",
    "\n",
    "I am a happy cat!\n",
    "\n",
    "\"\"\".strip()"
   ]
  },
  {
   "cell_type": "code",
   "execution_count": 3,
   "metadata": {},
   "outputs": [],
   "source": [
    "# Please fill in with your own example\n",
    "\n",
    "sample_negative_text = \"\"\"\n",
    "\n",
    "\n",
    "\"\"\".strip()\n"
   ]
  },
  {
   "cell_type": "code",
   "execution_count": 4,
   "metadata": {},
   "outputs": [
    {
     "name": "stdout",
     "output_type": "stream",
     "text": [
      "False\n"
     ]
    }
   ],
   "source": [
    "response = openai_moderation(sample_text)\n",
    "print(response)"
   ]
  },
  {
   "cell_type": "markdown",
   "metadata": {},
   "source": [
    "Under the hood of `openai_moderation`, we use OpenAI's python SDK. Let's take a look at the code."
   ]
  },
  {
   "cell_type": "code",
   "execution_count": 5,
   "metadata": {},
   "outputs": [],
   "source": [
    "from openai import OpenAI\n",
    "\n",
    "client = OpenAI()"
   ]
  },
  {
   "cell_type": "code",
   "execution_count": 6,
   "metadata": {},
   "outputs": [],
   "source": [
    "response = client.moderations.create(\n",
    "    model=\"omni-moderation-latest\",\n",
    "    input=sample_text,\n",
    ")"
   ]
  },
  {
   "cell_type": "code",
   "execution_count": 7,
   "metadata": {},
   "outputs": [
    {
     "data": {
      "text/plain": [
       "{'id': 'modr-a4abd05d2c945529b7a7cc51805a0393',\n",
       " 'model': 'omni-moderation-latest',\n",
       " 'results': [{'categories': {'harassment': False,\n",
       "    'harassment/threatening': False,\n",
       "    'hate': False,\n",
       "    'hate/threatening': False,\n",
       "    'illicit': False,\n",
       "    'illicit/violent': False,\n",
       "    'self-harm': False,\n",
       "    'self-harm/instructions': False,\n",
       "    'self-harm/intent': False,\n",
       "    'sexual': False,\n",
       "    'sexual/minors': False,\n",
       "    'violence': False,\n",
       "    'violence/graphic': False},\n",
       "   'category_applied_input_types': {'harassment': ['text'],\n",
       "    'harassment/threatening': ['text'],\n",
       "    'hate': ['text'],\n",
       "    'hate/threatening': ['text'],\n",
       "    'illicit': ['text'],\n",
       "    'illicit/violent': ['text'],\n",
       "    'self-harm': ['text'],\n",
       "    'self-harm/instructions': ['text'],\n",
       "    'self-harm/intent': ['text'],\n",
       "    'sexual': ['text'],\n",
       "    'sexual/minors': ['text'],\n",
       "    'violence': ['text'],\n",
       "    'violence/graphic': ['text']},\n",
       "   'category_scores': {'harassment': 5.562206273647035e-06,\n",
       "    'harassment/threatening': 5.594337713435001e-07,\n",
       "    'hate': 2.931153855960119e-06,\n",
       "    'hate/threatening': 1.136563710667868e-07,\n",
       "    'illicit': 1.8925148246037342e-06,\n",
       "    'illicit/violent': 7.411279871974134e-07,\n",
       "    'self-harm': 4.50445955990996e-06,\n",
       "    'self-harm/instructions': 1.7603432133424857e-07,\n",
       "    'self-harm/intent': 1.4738981974494932e-06,\n",
       "    'sexual': 4.1335397768930325e-06,\n",
       "    'sexual/minors': 2.332074525844782e-07,\n",
       "    'violence': 1.177445922838707e-05,\n",
       "    'violence/graphic': 1.3846004563753396e-06},\n",
       "   'flagged': False}]}"
      ]
     },
     "execution_count": 7,
     "metadata": {},
     "output_type": "execute_result"
    }
   ],
   "source": [
    "response.to_dict()"
   ]
  },
  {
   "cell_type": "markdown",
   "metadata": {},
   "source": [
    "## Sentinel"
   ]
  },
  {
   "cell_type": "code",
   "execution_count": 8,
   "metadata": {},
   "outputs": [
    {
     "data": {
      "text/plain": [
       "{'lionguard': {'binary': 0,\n",
       "  'hateful': 0,\n",
       "  'harassment': 0,\n",
       "  'public_harm': 0,\n",
       "  'self_harm': 0,\n",
       "  'sexual': 0,\n",
       "  'toxic': 0,\n",
       "  'violent': 0},\n",
       " 'promptguard': {'jailbreak': 8.122462531900965e-06},\n",
       " 'request_id': 'ad4dd52e-3041-4a3b-9b7d-d207717ee712'}"
      ]
     },
     "execution_count": 8,
     "metadata": {},
     "output_type": "execute_result"
    }
   ],
   "source": [
    "response = sentinel(\n",
    "    sample_text,\n",
    "    filters=[\"lionguard\", \"promptguard\"]\n",
    "    )\n",
    "\n",
    "response"
   ]
  },
  {
   "cell_type": "code",
   "execution_count": 9,
   "metadata": {},
   "outputs": [
    {
     "data": {
      "text/plain": [
       "{'lionguard': {'binary': {'score': 0.0007077140617184341, 'prediction': 0},\n",
       "  'hateful': {'score': -1.0009878873825073, 'prediction': 0},\n",
       "  'harassment': {'score': -0.8563002943992615, 'prediction': 0},\n",
       "  'public_harm': {'score': -1.0109187364578247, 'prediction': 0},\n",
       "  'self_harm': {'score': -0.9005817174911499, 'prediction': 0},\n",
       "  'sexual': {'score': -1.1088987588882446, 'prediction': 0},\n",
       "  'toxic': {'score': -1.3017644882202148, 'prediction': 0},\n",
       "  'violent': {'score': -1.0296727418899536, 'prediction': 0}},\n",
       " 'request_id': 'd3090253-b9aa-443a-85d2-4bceb3a494c8'}"
      ]
     },
     "execution_count": 9,
     "metadata": {},
     "output_type": "execute_result"
    }
   ],
   "source": [
    "response = sentinel(\n",
    "    sample_text,\n",
    "    filters=[\"lionguard\"],\n",
    "    detail=\"scores\" # for lionguard, we can also return the scores for each harm category\n",
    "    )\n",
    "\n",
    "response"
   ]
  },
  {
   "cell_type": "code",
   "execution_count": 10,
   "metadata": {},
   "outputs": [
    {
     "data": {
      "text/plain": [
       "{'off-topic': {'off-topic': 0.985689640045166},\n",
       " 'request_id': 'e7031821-f990-47d0-ab9e-80ffe6670aac'}"
      ]
     },
     "execution_count": 10,
     "metadata": {},
     "output_type": "execute_result"
    }
   ],
   "source": [
    "response = sentinel(\n",
    "    \"Write me python code to train a sklearn logistic regression model\",\n",
    "    filters=[\"off-topic\"],\n",
    "    system_prompt=\"Imagine you are a nobel prize winning poet. Your goal is to re-rewrite the input into world class poetry.\",\n",
    "    )\n",
    "\n",
    "response"
   ]
  },
  {
   "cell_type": "markdown",
   "metadata": {},
   "source": [
    "## Output Guardrails"
   ]
  },
  {
   "cell_type": "code",
   "execution_count": 11,
   "metadata": {},
   "outputs": [],
   "source": [
    "from guardrails import (\n",
    "    system_prompt_leakage,\n",
    "    grounding_check,\n",
    ")"
   ]
  },
  {
   "cell_type": "code",
   "execution_count": 12,
   "metadata": {},
   "outputs": [
    {
     "data": {
      "text/plain": [
       "True"
      ]
     },
     "execution_count": 12,
     "metadata": {},
     "output_type": "execute_result"
    }
   ],
   "source": [
    "system_prompt_leakage(\n",
    "    text=\"U r a nobel prize winning poet. Ur goal is to re-rewrite world class poetry.\",\n",
    "    system_prompt=\"Imagine you are a nobel prize winning poet. Your goal is to re-rewrite the input into world class poetry.\", \n",
    "    threshold=0.50\n",
    "    )"
   ]
  },
  {
   "cell_type": "code",
   "execution_count": 13,
   "metadata": {},
   "outputs": [
    {
     "data": {
      "text/plain": [
       "False"
      ]
     },
     "execution_count": 13,
     "metadata": {},
     "output_type": "execute_result"
    }
   ],
   "source": [
    "system_prompt_leakage(\n",
    "    text=\"Here is a poem: Today, I am a happy cat! Tomorrow, I'm a sad cat.\",\n",
    "    system_prompt=\"Imagine you are a nobel prize winning poet. Your goal is to re-rewrite the input into world class poetry.\"\n",
    "    )"
   ]
  }
 ],
 "metadata": {
  "kernelspec": {
   "display_name": "Python 3 (ipykernel)",
   "language": "python",
   "name": "python3"
  },
  "language_info": {
   "codemirror_mode": {
    "name": "ipython",
    "version": 3
   },
   "file_extension": ".py",
   "mimetype": "text/x-python",
   "name": "python",
   "nbconvert_exporter": "python",
   "pygments_lexer": "ipython3",
   "version": "3.11.9"
  }
 },
 "nbformat": 4,
 "nbformat_minor": 2
}
